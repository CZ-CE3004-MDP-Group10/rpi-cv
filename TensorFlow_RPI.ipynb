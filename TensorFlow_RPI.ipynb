{
  "nbformat": 4,
  "nbformat_minor": 0,
  "metadata": {
    "colab": {
      "name": "TensorFlow_RPI_1.ipynb",
      "provenance": [],
      "collapsed_sections": [
        "Mr1C2oEFHU8m"
      ],
      "include_colab_link": true
    },
    "kernelspec": {
      "name": "python3",
      "display_name": "Python 3"
    },
    "accelerator": "TPU"
  },
  "cells": [
    {
      "cell_type": "markdown",
      "metadata": {
        "id": "view-in-github",
        "colab_type": "text"
      },
      "source": [
        "<a href=\"https://colab.research.google.com/github/CZ-CE3004-MDP-Group10/rpi-cv/blob/main/TensorFlow_RPI.ipynb\" target=\"_parent\"><img src=\"https://colab.research.google.com/assets/colab-badge.svg\" alt=\"Open In Colab\"/></a>"
      ]
    },
    {
      "cell_type": "markdown",
      "metadata": {
        "id": "BdPIPNKHB1f3"
      },
      "source": [
        "# Setup Directory and Pathing Structure\r\n",
        "Start by mounting the repository, this repository contains the labeled images and image preprocessing scripts"
      ]
    },
    {
      "cell_type": "code",
      "metadata": {
        "colab": {
          "base_uri": "https://localhost:8080/"
        },
        "id": "wcw_3MJy7NKj",
        "outputId": "989e811a-4bf6-405e-cb31-06d6fefa30ef"
      },
      "source": [
        "! git clone --depth 1 https://github.com/CZ-CE3004-MDP-Group10/rpi-cv"
      ],
      "execution_count": 1,
      "outputs": [
        {
          "output_type": "stream",
          "text": [
            "Cloning into 'rpi-cv'...\n",
            "remote: Enumerating objects: 7014, done.\u001b[K\n",
            "remote: Counting objects: 100% (7014/7014), done.\u001b[K\n",
            "remote: Compressing objects: 100% (4220/4220), done.\u001b[K\n",
            "remote: Total 7014 (delta 2766), reused 7005 (delta 2762), pack-reused 0\u001b[K\n",
            "Receiving objects: 100% (7014/7014), 85.93 MiB | 29.57 MiB/s, done.\n",
            "Resolving deltas: 100% (2766/2766), done.\n",
            "Checking out files: 100% (6912/6912), done.\n"
          ],
          "name": "stdout"
        }
      ]
    },
    {
      "cell_type": "markdown",
      "metadata": {
        "id": "d2XjP1VN01XK"
      },
      "source": [
        "## Configure Environment Paths"
      ]
    },
    {
      "cell_type": "code",
      "metadata": {
        "id": "WgP9_u8Cqyr_"
      },
      "source": [
        "# # copy github repo to working directory \r\n",
        "# %cp -a /content/rpi-cv/TensorFlow /content"
      ],
      "execution_count": 2,
      "outputs": []
    },
    {
      "cell_type": "code",
      "metadata": {
        "id": "InQE0mhS1X6C"
      },
      "source": [
        "TENSORFLOW_PATH = '/content/rpi-cv/TensorFlow'\r\n",
        "TF_API_MODEL_PATH = TENSORFLOW_PATH + '/models' \r\n",
        "SCRIPTS_PATH = TENSORFLOW_PATH + '/scripts'\r\n",
        "WORKSPACE_PATH = TENSORFLOW_PATH + '/workspace'\r\n",
        "ANNOTATIONS_PATH = WORKSPACE_PATH + '/annotations'\r\n",
        "IMAGES_PATH = WORKSPACE_PATH +'/images'\r\n",
        "MODEL_PATH = WORKSPACE_PATH + '/models'\r\n",
        "PRE_TRAINED_MODELS_PATH = WORKSPACE_PATH +'/pre-trained-models'"
      ],
      "execution_count": 3,
      "outputs": []
    },
    {
      "cell_type": "code",
      "metadata": {
        "id": "MP4Wt1U4on7i"
      },
      "source": [
        "!mkdir {MODEL_PATH}\r\n",
        "!mkdir {PRE_TRAINED_MODELS_PATH}"
      ],
      "execution_count": 4,
      "outputs": []
    },
    {
      "cell_type": "markdown",
      "metadata": {
        "id": "v9CbaZNjjHh4"
      },
      "source": [
        "## Mount TensorFlow Model Garden\r\n",
        "In order to use the TensorFlow Object Detection API, we need to clone it's GitHub Repo."
      ]
    },
    {
      "cell_type": "code",
      "metadata": {
        "id": "F62iHIpQfRrR",
        "colab": {
          "base_uri": "https://localhost:8080/"
        },
        "outputId": "70a289da-c044-4712-fc40-640466e6a78f"
      },
      "source": [
        "import os\r\n",
        "os.chdir(TENSORFLOW_PATH)\r\n",
        "os.getcwd()\r\n",
        "\r\n",
        "!git clone --depth 1 https://github.com/tensorflow/models.git"
      ],
      "execution_count": 5,
      "outputs": [
        {
          "output_type": "stream",
          "text": [
            "Cloning into 'models'...\n",
            "remote: Enumerating objects: 2449, done.\u001b[K\n",
            "remote: Counting objects: 100% (2449/2449), done.\u001b[K\n",
            "remote: Compressing objects: 100% (2043/2043), done.\u001b[K\n",
            "remote: Total 2449 (delta 593), reused 1333 (delta 379), pack-reused 0\u001b[K\n",
            "Receiving objects: 100% (2449/2449), 30.84 MiB | 31.94 MiB/s, done.\n",
            "Resolving deltas: 100% (593/593), done.\n"
          ],
          "name": "stdout"
        }
      ]
    },
    {
      "cell_type": "markdown",
      "metadata": {
        "id": "bZh2xQftuaMt"
      },
      "source": [
        "## Set up TensorFlow Object Detection Environment\r\n",
        "To use the object detection api we need to add it to our PYTHONPATH along with slim which contains code for training and evaluating several widely used Convolutional Neural Network (CNN) image classification models."
      ]
    },
    {
      "cell_type": "code",
      "metadata": {
        "colab": {
          "base_uri": "https://localhost:8080/"
        },
        "id": "bZGfesE4ufNs",
        "outputId": "f1065871-afb4-4496-9b5c-c9dabcca1d07"
      },
      "source": [
        "import os\r\n",
        "import sys\r\n",
        "os.environ['PYTHONPATH'] += \":/content/TensorFlow/models\"\r\n",
        "print(os.environ['PYTHONPATH'])\r\n",
        "\r\n",
        "sys.path.append('/content/TensorFlow/models/research')\r\n",
        "print(sys.path)"
      ],
      "execution_count": 6,
      "outputs": [
        {
          "output_type": "stream",
          "text": [
            "/env/python:/content/TensorFlow/models\n",
            "['', '/content', '/env/python', '/usr/lib/python37.zip', '/usr/lib/python3.7', '/usr/lib/python3.7/lib-dynload', '/usr/local/lib/python3.7/dist-packages', '/usr/lib/python3/dist-packages', '/usr/local/lib/python3.7/dist-packages/IPython/extensions', '/root/.ipython', '/content/TensorFlow/models/research']\n"
          ],
          "name": "stdout"
        }
      ]
    },
    {
      "cell_type": "markdown",
      "metadata": {
        "id": "LhSKvoN2Bxl3"
      },
      "source": [
        "# Install Required Libraries and Tools\r\n",
        "With colab, TensorFlow is already pre-installed along with its other dependencies. \r\n",
        "\r\n",
        "However, the TensorFlow Object Detection API relies on what are called protocol buffers (also known as protobufs). Protobufs are a language neutral way to describe information. That means you can write a protobuf once and then compile it to be used with other languages, like Python, Java or C."
      ]
    },
    {
      "cell_type": "code",
      "metadata": {
        "id": "gLcvWIbctGUq",
        "colab": {
          "base_uri": "https://localhost:8080/"
        },
        "outputId": "901ccd99-7cb8-438c-e880-113eb68e3987"
      },
      "source": [
        "!sudo apt install -y protobuf-compiler"
      ],
      "execution_count": 7,
      "outputs": [
        {
          "output_type": "stream",
          "text": [
            "Reading package lists... Done\n",
            "Building dependency tree       \n",
            "Reading state information... Done\n",
            "protobuf-compiler is already the newest version (3.0.0-9.1ubuntu1).\n",
            "0 upgraded, 0 newly installed, 0 to remove and 29 not upgraded.\n"
          ],
          "name": "stdout"
        }
      ]
    },
    {
      "cell_type": "markdown",
      "metadata": {
        "id": "ePhgSPnZ4_x5"
      },
      "source": [
        "## Build and Install the TensorFlow Object Detection API\r\n",
        "The protoc command used below is compiling all the protocol buffers in the object_detection/protos folder for Python. "
      ]
    },
    {
      "cell_type": "code",
      "metadata": {
        "id": "MUspRPI7qRuz",
        "colab": {
          "base_uri": "https://localhost:8080/"
        },
        "outputId": "19d624f2-066c-4f99-fa94-294399785acf"
      },
      "source": [
        "import os\r\n",
        "os.chdir(TF_API_MODEL_PATH+'/research')\r\n",
        "\r\n",
        "# Compile and build the TF2 OD setup.py\r\n",
        "!protoc object_detection/protos/*.proto --python_out=.\r\n",
        "!cp object_detection/packages/tf2/setup.py .\r\n",
        "# install TF2 OD API\r\n",
        "!python -m pip install . --quiet "
      ],
      "execution_count": 8,
      "outputs": [
        {
          "output_type": "stream",
          "text": [
            "\u001b[K     |████████████████████████████████| 9.0MB 9.7MB/s \n",
            "\u001b[K     |████████████████████████████████| 358kB 47.2MB/s \n",
            "\u001b[K     |████████████████████████████████| 1.1MB 54.8MB/s \n",
            "\u001b[K     |████████████████████████████████| 2.2MB 51.3MB/s \n",
            "\u001b[K     |████████████████████████████████| 829kB 47.1MB/s \n",
            "\u001b[K     |████████████████████████████████| 153kB 50.1MB/s \n",
            "\u001b[K     |████████████████████████████████| 61kB 6.4MB/s \n",
            "\u001b[K     |████████████████████████████████| 61kB 6.4MB/s \n",
            "\u001b[K     |████████████████████████████████| 17.7MB 244kB/s \n",
            "\u001b[K     |████████████████████████████████| 37.6MB 1.2MB/s \n",
            "\u001b[K     |████████████████████████████████| 706kB 42.1MB/s \n",
            "\u001b[K     |████████████████████████████████| 102kB 10.6MB/s \n",
            "\u001b[K     |████████████████████████████████| 51kB 6.0MB/s \n",
            "\u001b[K     |████████████████████████████████| 1.2MB 42.1MB/s \n",
            "\u001b[K     |████████████████████████████████| 174kB 51.7MB/s \n",
            "\u001b[K     |████████████████████████████████| 645kB 42.2MB/s \n",
            "\u001b[K     |████████████████████████████████| 112kB 51.8MB/s \n",
            "\u001b[?25h  Building wheel for object-detection (setup.py) ... \u001b[?25l\u001b[?25hdone\n",
            "  Building wheel for avro-python3 (setup.py) ... \u001b[?25l\u001b[?25hdone\n",
            "  Building wheel for future (setup.py) ... \u001b[?25l\u001b[?25hdone\n",
            "  Building wheel for dill (setup.py) ... \u001b[?25l\u001b[?25hdone\n",
            "  Building wheel for py-cpuinfo (setup.py) ... \u001b[?25l\u001b[?25hdone\n",
            "  Building wheel for seqeval (setup.py) ... \u001b[?25l\u001b[?25hdone\n",
            "\u001b[31mERROR: multiprocess 0.70.11.1 has requirement dill>=0.3.3, but you'll have dill 0.3.1.1 which is incompatible.\u001b[0m\n",
            "\u001b[31mERROR: google-colab 1.0.0 has requirement requests~=2.23.0, but you'll have requests 2.25.1 which is incompatible.\u001b[0m\n",
            "\u001b[31mERROR: datascience 0.10.6 has requirement folium==0.2.1, but you'll have folium 0.8.3 which is incompatible.\u001b[0m\n",
            "\u001b[31mERROR: apache-beam 2.28.0 has requirement avro-python3!=1.9.2,<1.10.0,>=1.8.1, but you'll have avro-python3 1.10.1 which is incompatible.\u001b[0m\n"
          ],
          "name": "stdout"
        }
      ]
    },
    {
      "cell_type": "markdown",
      "metadata": {
        "id": "nrkyR3qzFVfC"
      },
      "source": [
        "## Test Tensorflow 2 Object Detection API"
      ]
    },
    {
      "cell_type": "code",
      "metadata": {
        "id": "xfwv37vs7Cto"
      },
      "source": [
        "# import os\r\n",
        "# os.chdir(TF_API_MODEL_PATH+'/research/object_detection/builders')\r\n",
        "\r\n",
        "# !python model_builder_tf2_test.py # prints out run ok if TF2 OD API is installed successfully"
      ],
      "execution_count": 9,
      "outputs": []
    },
    {
      "cell_type": "markdown",
      "metadata": {
        "id": "KhOOS_3DFidr"
      },
      "source": [
        "# Model Training"
      ]
    },
    {
      "cell_type": "markdown",
      "metadata": {
        "id": "Mr1C2oEFHU8m"
      },
      "source": [
        "## 1. Label Image with Imagelabel\r\n",
        "Label the image according to their appropriate signs.\r\n",
        "\r\n",
        "https://github.com/tzutalin/labelImg generates PASCAL .xml format of every images"
      ]
    },
    {
      "cell_type": "markdown",
      "metadata": {
        "id": "KWVGosqV1UC3"
      },
      "source": [
        "## 2. Split Image Dataset\r\n",
        "Using partition.py, we will split the dataset to a ratio of 9:1 for train & test"
      ]
    },
    {
      "cell_type": "code",
      "metadata": {
        "id": "Puc6rmXjyS3D"
      },
      "source": [
        "# specify dataset in image path\r\n",
        "IMAGE_DATASET_PATH = IMAGES_PATH + '/dataset'"
      ],
      "execution_count": 10,
      "outputs": []
    },
    {
      "cell_type": "code",
      "metadata": {
        "id": "EK2kSh74zB-O",
        "outputId": "59f92208-bc1c-4108-c323-33f8f4f689bd",
        "colab": {
          "base_uri": "https://localhost:8080/"
        }
      },
      "source": [
        "# get batch size\r\n",
        "import fnmatch\r\n",
        "image_count = len(fnmatch.filter(os.listdir(IMAGE_DATASET_PATH), '*.jpg'))\r\n",
        "print(image_count)"
      ],
      "execution_count": 11,
      "outputs": [
        {
          "output_type": "stream",
          "text": [
            "655\n"
          ],
          "name": "stdout"
        }
      ]
    },
    {
      "cell_type": "code",
      "metadata": {
        "id": "illkpuRU2DXW"
      },
      "source": [
        "!python3 {SCRIPTS_PATH}/preprocessing/partition.py -i {IMAGE_DATASET_PATH} -o {IMAGES_PATH} -x"
      ],
      "execution_count": 12,
      "outputs": []
    },
    {
      "cell_type": "markdown",
      "metadata": {
        "id": "exzSaiSpotwp"
      },
      "source": [
        "## 2. Create Label Map\r\n",
        "TensorFlow requires a label map, which namely maps each of the used labels to an integer values. This label map is used both by the training and detection processes."
      ]
    },
    {
      "cell_type": "code",
      "metadata": {
        "id": "BZQuMD81o0Hu"
      },
      "source": [
        "labels = [\r\n",
        "    {'name':'up', 'id':1}, \r\n",
        "    {'name':'down', 'id':2}, \r\n",
        "    {'name':'right', 'id':3}, \r\n",
        "    {'name':'left', 'id':4}, \r\n",
        "    {'name':'go', 'id':5}, \r\n",
        "    {'name':'6', 'id':6},\r\n",
        "    {'name':'7', 'id':7}, \r\n",
        "    {'name':'8', 'id':8}, \r\n",
        "    {'name':'9', 'id':9}, \r\n",
        "    {'name':'0', 'id':10}, \r\n",
        "    {'name':'v', 'id':11}, \r\n",
        "    {'name':'w', 'id':12}, \r\n",
        "    {'name':'x', 'id':13}, \r\n",
        "    {'name':'y', 'id':14}, \r\n",
        "    {'name':'z', 'id':15}\r\n",
        "]\r\n",
        "\r\n",
        "with open(ANNOTATIONS_PATH+'/label_map.pbtxt', 'w') as f:\r\n",
        "    for label in labels:\r\n",
        "        f.write('item { \\n')\r\n",
        "        f.write('\\tname:\\'{}\\'\\n'.format(label['name']))\r\n",
        "        f.write('\\tid:{}\\n'.format(label['id']))\r\n",
        "        f.write('}\\n')"
      ],
      "execution_count": 13,
      "outputs": []
    },
    {
      "cell_type": "markdown",
      "metadata": {
        "id": "u83ZmiKlqbxI"
      },
      "source": [
        "## 3. Create TensorFlow Records\r\n",
        "\r\n",
        "Now that we have generated our annotations and split our dataset into the desired training and testing subsets, it is time to convert our annotations into the so called TFRecord format.\r\n",
        "Convert *.xml to *.record\r\n",
        "\r\n",
        "To do this we can write a simple script that iterates through all *.xml files in the training_demo/images/train and training_demo/images/test folders, and generates a *.record file for each of the two. Here is an example script that allows us to do just that:"
      ]
    },
    {
      "cell_type": "code",
      "metadata": {
        "id": "hPpGEWYG24jh",
        "outputId": "b5a83036-3d38-4069-f213-8f96125344b5",
        "colab": {
          "base_uri": "https://localhost:8080/"
        }
      },
      "source": [
        "import os\r\n",
        "import glob\r\n",
        "import pandas as pd\r\n",
        "import xml.etree.ElementTree as ET\r\n",
        "\r\n",
        "\r\n",
        "def xml_to_csv(path):\r\n",
        "    xml_list = []\r\n",
        "    for xml_file in glob.glob(path + '/*.xml'):\r\n",
        "        tree = ET.parse(xml_file)\r\n",
        "        root = tree.getroot()\r\n",
        "        for member in root.findall('object'):\r\n",
        "            value = (root.find('filename').text,\r\n",
        "                     int(root.find('size')[0].text),\r\n",
        "                     int(root.find('size')[1].text),\r\n",
        "                     member[0].text,\r\n",
        "                     int(member[5][0].text),\r\n",
        "                     int(member[5][1].text),\r\n",
        "                     int(member[5][2].text),\r\n",
        "                     int(member[5][3].text)\r\n",
        "                     )\r\n",
        "            xml_list.append(value)\r\n",
        "    column_name = ['filename', 'width', 'height', 'class', 'xmin', 'ymin', 'xmax', 'ymax']\r\n",
        "    xml_df = pd.DataFrame(xml_list, columns=column_name)\r\n",
        "    return xml_df\r\n",
        "\r\n",
        "\r\n",
        "def main():\r\n",
        "    os.chdir(IMAGES_PATH)\r\n",
        "    image_path = os.path.join(os.getcwd(), 'train')\r\n",
        "    xml_df = xml_to_csv(image_path)\r\n",
        "    xml_df.to_csv(f'{ANNOTATIONS_PATH}/train.csv', index=None)\r\n",
        "    print('Successfully converted xml to csv.')\r\n",
        "\r\n",
        "\r\n",
        "main()"
      ],
      "execution_count": 26,
      "outputs": [
        {
          "output_type": "stream",
          "text": [
            "Successfully converted xml to csv.\n"
          ],
          "name": "stdout"
        }
      ]
    },
    {
      "cell_type": "code",
      "metadata": {
        "colab": {
          "base_uri": "https://localhost:8080/"
        },
        "id": "s-hWNC_2qgdJ",
        "outputId": "5274fe19-ba6b-4c27-e237-1f2950b44c5a"
      },
      "source": [
        "# Create train data:\r\n",
        "!python {SCRIPTS_PATH + '/preprocessing/generate_tfrecord.py'} -x {IMAGES_PATH + '/train'} -i {IMAGES_PATH + '/train'} -l {ANNOTATIONS_PATH + '/label_map.pbtxt'} -o {ANNOTATIONS_PATH + '/train.record'}\r\n",
        "\r\n",
        "# Create test data:\r\n",
        "!python {SCRIPTS_PATH + '/preprocessing/generate_tfrecord.py'} -x {IMAGES_PATH + '/test'} -l {ANNOTATIONS_PATH + '/label_map.pbtxt'} -o {ANNOTATIONS_PATH + '/test.record'}"
      ],
      "execution_count": 14,
      "outputs": [
        {
          "output_type": "stream",
          "text": [
            "Successfully created the TFRecord file: /content/rpi-cv/TensorFlow/workspace/annotations/train.record\n",
            "Successfully created the TFRecord file: /content/rpi-cv/TensorFlow/workspace/annotations/test.record\n"
          ],
          "name": "stdout"
        }
      ]
    },
    {
      "cell_type": "markdown",
      "metadata": {
        "id": "UNFb0mthbUL0"
      },
      "source": [
        "## 4. Download Pre-Trained Model\r\n",
        "To begin with, we need to download the latest pre-trained network for the model we wish to use. \r\n",
        "\r\n",
        "This can be done by simply clicking on the name of the desired model in the table found in [TensorFlow 2 Detection Model Zoo](https://github.com/tensorflow/models/blob/master/research/object_detection/g3doc/tf2_detection_zoo.md). Clicking on the name of your model should initiate a download for a `*.tar.gz` file.\r\n",
        "\r\n",
        "Once the `*.tar.gz` file has been downloaded, open it using a decompression program of your choice (e.g. 7zip, WinZIP, etc.). Next, open the `*.tar` folder that you see when the compressed folder is opened, and extract its contents inside the folder `/workspace/pre-trained-models`. "
      ]
    },
    {
      "cell_type": "code",
      "metadata": {
        "id": "nsW-v715ftDz"
      },
      "source": [
        "import os\r\n",
        "import requests\r\n",
        "import tarfile\r\n",
        "\r\n",
        "from shutil import copyfile\r\n",
        "\r\n",
        "\r\n",
        "os.chdir(PRE_TRAINED_MODELS_PATH)\r\n",
        "base_url = \"http://download.tensorflow.org/models/object_detection/tf2/20200711/\"\r\n",
        "# model = \"ssd_mobilenet_v2_fpnlite_640x640_coco17_tpu-8.tar.gz\"\r\n",
        "model = \"ssd_mobilenet_v2_320x320_coco17_tpu-8.tar.gz\"\r\n",
        "\r\n",
        "url = f'{base_url}{model}'\r\n",
        "r = requests.get(url, allow_redirects=True)\r\n",
        "open(model, 'wb').write(r.content)\r\n",
        "tar = tarfile.open(model)\r\n",
        "tar.extractall()\r\n",
        "tar.close()"
      ],
      "execution_count": 15,
      "outputs": []
    },
    {
      "cell_type": "markdown",
      "metadata": {
        "id": "jwavK8KUK2iD"
      },
      "source": [
        "## 4. Copy Choosen Model to Training folder\r\n",
        "Finally, the object detection training pipeline must be configured. It defines which model and what parameters will be used for training. This is the last step before running training!"
      ]
    },
    {
      "cell_type": "code",
      "metadata": {
        "id": "51esqZC9L823",
        "colab": {
          "base_uri": "https://localhost:8080/",
          "height": 36
        },
        "outputId": "15c07f12-628e-4257-8a22-abd98b9c66ad"
      },
      "source": [
        "CUSTOM_MODEL_NAME = model.partition('.')[0]\r\n",
        "CUSTOM_MODEL_NAME"
      ],
      "execution_count": 16,
      "outputs": [
        {
          "output_type": "execute_result",
          "data": {
            "application/vnd.google.colaboratory.intrinsic+json": {
              "type": "string"
            },
            "text/plain": [
              "'ssd_mobilenet_v2_320x320_coco17_tpu-8'"
            ]
          },
          "metadata": {
            "tags": []
          },
          "execution_count": 16
        }
      ]
    },
    {
      "cell_type": "code",
      "metadata": {
        "colab": {
          "base_uri": "https://localhost:8080/",
          "height": 54
        },
        "id": "3c_dmb9lQce0",
        "outputId": "7803a8bb-dc34-4e46-f5db-2f69486d5069"
      },
      "source": [
        "import os\r\n",
        "from shutil import copyfile\r\n",
        "\r\n",
        "os.chdir(WORKSPACE_PATH)\r\n",
        "os.mkdir(MODEL_PATH + '/' + CUSTOM_MODEL_NAME)\r\n",
        "\r\n",
        "copyfile(PRE_TRAINED_MODELS_PATH + '/' + CUSTOM_MODEL_NAME + '/pipeline.config', MODEL_PATH + '/' + CUSTOM_MODEL_NAME + '/pipeline.config')"
      ],
      "execution_count": 17,
      "outputs": [
        {
          "output_type": "execute_result",
          "data": {
            "application/vnd.google.colaboratory.intrinsic+json": {
              "type": "string"
            },
            "text/plain": [
              "'/content/rpi-cv/TensorFlow/workspace/models/ssd_mobilenet_v2_320x320_coco17_tpu-8/pipeline.config'"
            ]
          },
          "metadata": {
            "tags": []
          },
          "execution_count": 17
        }
      ]
    },
    {
      "cell_type": "markdown",
      "metadata": {
        "id": "2GygVpScXZKu"
      },
      "source": [
        "## 5. Updating Choosen Model Config file\r\n",
        "There will be multiple parameters that needs to be configured for the config file prior to training. We will use a Python script to shorten the process.\r\n",
        "\r\n"
      ]
    },
    {
      "cell_type": "code",
      "metadata": {
        "id": "26n3VzuTZAmi"
      },
      "source": [
        "import tensorflow as tf\r\n",
        "from object_detection.utils import config_util\r\n",
        "from object_detection.protos import pipeline_pb2\r\n",
        "from google.protobuf import text_format"
      ],
      "execution_count": 18,
      "outputs": []
    },
    {
      "cell_type": "code",
      "metadata": {
        "id": "d-GgPm4eZFhI"
      },
      "source": [
        "CONFIG_PATH = MODEL_PATH+'/'+CUSTOM_MODEL_NAME+'/pipeline.config'"
      ],
      "execution_count": 19,
      "outputs": []
    },
    {
      "cell_type": "code",
      "metadata": {
        "id": "uUjycEqNZL4t"
      },
      "source": [
        "config = config_util.get_configs_from_pipeline_file(CONFIG_PATH)"
      ],
      "execution_count": 20,
      "outputs": []
    },
    {
      "cell_type": "code",
      "metadata": {
        "id": "T0tUXV78ZP3G"
      },
      "source": [
        "pipeline_config = pipeline_pb2.TrainEvalPipelineConfig()\r\n",
        "with tf.io.gfile.GFile(CONFIG_PATH, \"r\") as f:                                                                                                                                                                                                                     \r\n",
        "    proto_str = f.read()                                                                                                                                                                                                                                          \r\n",
        "    text_format.Merge(proto_str, pipeline_config)"
      ],
      "execution_count": 21,
      "outputs": []
    },
    {
      "cell_type": "code",
      "metadata": {
        "id": "ljUWROs6ZVbp"
      },
      "source": [
        "# Number of label classes\r\n",
        "pipeline_config.model.ssd.num_classes = 15\r\n",
        "# Number of Batch size based on memory space\r\n",
        "pipeline_config.train_config.batch_size = 32\r\n",
        "# Model checkpoint (Checkpoints capture the exact value of all parameters (tf.Variable objects) used by a model)\r\n",
        "pipeline_config.train_config.fine_tune_checkpoint = PRE_TRAINED_MODELS_PATH + '/' +CUSTOM_MODEL_NAME + '/checkpoint/ckpt-0' \r\n",
        "# Specify to train DETECTION model\r\n",
        "pipeline_config.train_config.fine_tune_checkpoint_type = \"detection\"\r\n",
        "# Label map for train\r\n",
        "pipeline_config.train_input_reader.label_map_path= ANNOTATIONS_PATH + '/label_map.pbtxt'\r\n",
        "# TF records of train\r\n",
        "pipeline_config.train_input_reader.tf_record_input_reader.input_path[:] = [ANNOTATIONS_PATH + '/train.record']\r\n",
        "# Label map for test\r\n",
        "pipeline_config.eval_input_reader[0].label_map_path = ANNOTATIONS_PATH + '/label_map.pbtxt'\r\n",
        "# TF reocrds of test\r\n",
        "pipeline_config.eval_input_reader[0].tf_record_input_reader.input_path[:] = [ANNOTATIONS_PATH + '/test.record']"
      ],
      "execution_count": 22,
      "outputs": []
    },
    {
      "cell_type": "code",
      "metadata": {
        "id": "SCF9YHv9bZ1g"
      },
      "source": [
        "# write changes to config\r\n",
        "config_text = text_format.MessageToString(pipeline_config)                                                                                                                                                                                                        \r\n",
        "with tf.io.gfile.GFile(CONFIG_PATH, \"wb\") as f:                                                                                                                                                                                                                     \r\n",
        "    f.write(config_text)"
      ],
      "execution_count": 23,
      "outputs": []
    },
    {
      "cell_type": "markdown",
      "metadata": {
        "id": "ku2StgFgcWy5"
      },
      "source": [
        "## Train the Model"
      ]
    },
    {
      "cell_type": "code",
      "metadata": {
        "id": "mXnL1QmCaa1W",
        "outputId": "fe15d2ca-4cfd-495c-b933-8a5bea360f24",
        "colab": {
          "base_uri": "https://localhost:8080/"
        }
      },
      "source": [
        "# Begin training\r\n",
        "! python {TF_API_MODEL_PATH}/research/object_detection/model_main_tf2.py \\\r\n",
        "    --model_dir={MODEL_PATH}/{CUSTOM_MODEL_NAME} \\\r\n",
        "    --pipeline_config_path={CONFIG_PATH} \\\r\n",
        "    --alsologtostderr"
      ],
      "execution_count": 24,
      "outputs": [
        {
          "output_type": "stream",
          "text": [
            "2021-03-09 21:13:22.345259: I tensorflow/stream_executor/platform/default/dso_loader.cc:49] Successfully opened dynamic library libcudart.so.11.0\n",
            "2021-03-09 21:13:27.651615: I tensorflow/compiler/jit/xla_cpu_device.cc:41] Not creating XLA devices, tf_xla_enable_xla_devices not set\n",
            "2021-03-09 21:13:27.688950: I tensorflow/stream_executor/platform/default/dso_loader.cc:49] Successfully opened dynamic library libcuda.so.1\n",
            "2021-03-09 21:13:27.766044: E tensorflow/stream_executor/cuda/cuda_driver.cc:328] failed call to cuInit: CUDA_ERROR_NO_DEVICE: no CUDA-capable device is detected\n",
            "2021-03-09 21:13:27.766182: I tensorflow/stream_executor/cuda/cuda_diagnostics.cc:156] kernel driver does not appear to be running on this host (f5eccda95d22): /proc/driver/nvidia/version does not exist\n",
            "2021-03-09 21:13:27.767862: I tensorflow/compiler/jit/xla_gpu_device.cc:99] Not creating XLA devices, tf_xla_enable_xla_devices not set\n",
            "WARNING:tensorflow:There are non-GPU devices in `tf.distribute.Strategy`, not using nccl allreduce.\n",
            "W0309 21:13:27.779336 140550826125184 cross_device_ops.py:1321] There are non-GPU devices in `tf.distribute.Strategy`, not using nccl allreduce.\n",
            "INFO:tensorflow:Using MirroredStrategy with devices ('/job:localhost/replica:0/task:0/device:CPU:0',)\n",
            "I0309 21:13:27.779750 140550826125184 mirrored_strategy.py:350] Using MirroredStrategy with devices ('/job:localhost/replica:0/task:0/device:CPU:0',)\n",
            "INFO:tensorflow:Maybe overwriting train_steps: None\n",
            "I0309 21:13:27.794036 140550826125184 config_util.py:552] Maybe overwriting train_steps: None\n",
            "INFO:tensorflow:Maybe overwriting use_bfloat16: False\n",
            "I0309 21:13:27.794309 140550826125184 config_util.py:552] Maybe overwriting use_bfloat16: False\n",
            "INFO:tensorflow:depth of additional conv before box predictor: 0\n",
            "I0309 21:13:31.257586 140550826125184 convolutional_keras_box_predictor.py:154] depth of additional conv before box predictor: 0\n",
            "INFO:tensorflow:depth of additional conv before box predictor: 0\n",
            "I0309 21:13:31.258177 140550826125184 convolutional_keras_box_predictor.py:154] depth of additional conv before box predictor: 0\n",
            "INFO:tensorflow:depth of additional conv before box predictor: 0\n",
            "I0309 21:13:31.258505 140550826125184 convolutional_keras_box_predictor.py:154] depth of additional conv before box predictor: 0\n",
            "INFO:tensorflow:depth of additional conv before box predictor: 0\n",
            "I0309 21:13:31.258735 140550826125184 convolutional_keras_box_predictor.py:154] depth of additional conv before box predictor: 0\n",
            "INFO:tensorflow:depth of additional conv before box predictor: 0\n",
            "I0309 21:13:31.258987 140550826125184 convolutional_keras_box_predictor.py:154] depth of additional conv before box predictor: 0\n",
            "INFO:tensorflow:depth of additional conv before box predictor: 0\n",
            "I0309 21:13:31.259170 140550826125184 convolutional_keras_box_predictor.py:154] depth of additional conv before box predictor: 0\n",
            "WARNING:tensorflow:From /usr/local/lib/python3.7/dist-packages/object_detection/model_lib_v2.py:538: StrategyBase.experimental_distribute_datasets_from_function (from tensorflow.python.distribute.distribute_lib) is deprecated and will be removed in a future version.\n",
            "Instructions for updating:\n",
            "rename to distribute_datasets_from_function\n",
            "W0309 21:13:31.362870 140550826125184 deprecation.py:339] From /usr/local/lib/python3.7/dist-packages/object_detection/model_lib_v2.py:538: StrategyBase.experimental_distribute_datasets_from_function (from tensorflow.python.distribute.distribute_lib) is deprecated and will be removed in a future version.\n",
            "Instructions for updating:\n",
            "rename to distribute_datasets_from_function\n",
            "INFO:tensorflow:Reading unweighted datasets: ['/content/rpi-cv/TensorFlow/workspace/annotations/train.record']\n",
            "I0309 21:13:31.403730 140550826125184 dataset_builder.py:163] Reading unweighted datasets: ['/content/rpi-cv/TensorFlow/workspace/annotations/train.record']\n",
            "INFO:tensorflow:Reading record datasets for input file: ['/content/rpi-cv/TensorFlow/workspace/annotations/train.record']\n",
            "I0309 21:13:31.404074 140550826125184 dataset_builder.py:80] Reading record datasets for input file: ['/content/rpi-cv/TensorFlow/workspace/annotations/train.record']\n",
            "INFO:tensorflow:Number of filenames to read: 1\n",
            "I0309 21:13:31.404224 140550826125184 dataset_builder.py:81] Number of filenames to read: 1\n",
            "WARNING:tensorflow:num_readers has been reduced to 1 to match input file shards.\n",
            "W0309 21:13:31.404307 140550826125184 dataset_builder.py:88] num_readers has been reduced to 1 to match input file shards.\n",
            "WARNING:tensorflow:From /usr/local/lib/python3.7/dist-packages/object_detection/builders/dataset_builder.py:105: parallel_interleave (from tensorflow.python.data.experimental.ops.interleave_ops) is deprecated and will be removed in a future version.\n",
            "Instructions for updating:\n",
            "Use `tf.data.Dataset.interleave(map_func, cycle_length, block_length, num_parallel_calls=tf.data.AUTOTUNE)` instead. If sloppy execution is desired, use `tf.data.Options.experimental_deterministic`.\n",
            "W0309 21:13:31.430453 140550826125184 deprecation.py:339] From /usr/local/lib/python3.7/dist-packages/object_detection/builders/dataset_builder.py:105: parallel_interleave (from tensorflow.python.data.experimental.ops.interleave_ops) is deprecated and will be removed in a future version.\n",
            "Instructions for updating:\n",
            "Use `tf.data.Dataset.interleave(map_func, cycle_length, block_length, num_parallel_calls=tf.data.AUTOTUNE)` instead. If sloppy execution is desired, use `tf.data.Options.experimental_deterministic`.\n",
            "WARNING:tensorflow:From /usr/local/lib/python3.7/dist-packages/object_detection/builders/dataset_builder.py:237: DatasetV1.map_with_legacy_function (from tensorflow.python.data.ops.dataset_ops) is deprecated and will be removed in a future version.\n",
            "Instructions for updating:\n",
            "Use `tf.data.Dataset.map()\n",
            "W0309 21:13:31.486578 140550826125184 deprecation.py:339] From /usr/local/lib/python3.7/dist-packages/object_detection/builders/dataset_builder.py:237: DatasetV1.map_with_legacy_function (from tensorflow.python.data.ops.dataset_ops) is deprecated and will be removed in a future version.\n",
            "Instructions for updating:\n",
            "Use `tf.data.Dataset.map()\n",
            "WARNING:tensorflow:From /usr/local/lib/python3.7/dist-packages/tensorflow/python/util/dispatch.py:201: sparse_to_dense (from tensorflow.python.ops.sparse_ops) is deprecated and will be removed in a future version.\n",
            "Instructions for updating:\n",
            "Create a `tf.sparse.SparseTensor` and use `tf.sparse.to_dense` instead.\n",
            "W0309 21:13:40.544343 140550826125184 deprecation.py:339] From /usr/local/lib/python3.7/dist-packages/tensorflow/python/util/dispatch.py:201: sparse_to_dense (from tensorflow.python.ops.sparse_ops) is deprecated and will be removed in a future version.\n",
            "Instructions for updating:\n",
            "Create a `tf.sparse.SparseTensor` and use `tf.sparse.to_dense` instead.\n",
            "WARNING:tensorflow:From /usr/local/lib/python3.7/dist-packages/tensorflow/python/util/dispatch.py:201: sample_distorted_bounding_box (from tensorflow.python.ops.image_ops_impl) is deprecated and will be removed in a future version.\n",
            "Instructions for updating:\n",
            "`seed2` arg is deprecated.Use sample_distorted_bounding_box_v2 instead.\n",
            "W0309 21:13:44.604250 140550826125184 deprecation.py:339] From /usr/local/lib/python3.7/dist-packages/tensorflow/python/util/dispatch.py:201: sample_distorted_bounding_box (from tensorflow.python.ops.image_ops_impl) is deprecated and will be removed in a future version.\n",
            "Instructions for updating:\n",
            "`seed2` arg is deprecated.Use sample_distorted_bounding_box_v2 instead.\n",
            "WARNING:tensorflow:From /usr/local/lib/python3.7/dist-packages/object_detection/inputs.py:282: to_float (from tensorflow.python.ops.math_ops) is deprecated and will be removed in a future version.\n",
            "Instructions for updating:\n",
            "Use `tf.cast` instead.\n",
            "W0309 21:13:47.348872 140550826125184 deprecation.py:339] From /usr/local/lib/python3.7/dist-packages/object_detection/inputs.py:282: to_float (from tensorflow.python.ops.math_ops) is deprecated and will be removed in a future version.\n",
            "Instructions for updating:\n",
            "Use `tf.cast` instead.\n",
            "2021-03-09 21:13:50.218255: I tensorflow/compiler/mlir/mlir_graph_optimization_pass.cc:116] None of the MLIR optimization passes are enabled (registered 2)\n",
            "2021-03-09 21:13:50.232234: I tensorflow/core/platform/profile_utils/cpu_utils.cc:112] CPU Frequency: 2299995000 Hz\n",
            "2021-03-09 21:13:51.838291: W tensorflow/core/framework/cpu_allocator_impl.cc:80] Allocation of 34560000 exceeds 10% of free system memory.\n",
            "2021-03-09 21:13:52.108970: W tensorflow/core/framework/cpu_allocator_impl.cc:80] Allocation of 34560000 exceeds 10% of free system memory.\n",
            "2021-03-09 21:13:52.264514: W tensorflow/core/framework/cpu_allocator_impl.cc:80] Allocation of 34560000 exceeds 10% of free system memory.\n",
            "2021-03-09 21:13:52.448963: W tensorflow/core/framework/cpu_allocator_impl.cc:80] Allocation of 34560000 exceeds 10% of free system memory.\n",
            "2021-03-09 21:13:52.615106: W tensorflow/core/framework/cpu_allocator_impl.cc:80] Allocation of 34560000 exceeds 10% of free system memory.\n",
            "Traceback (most recent call last):\n",
            "  File \"/usr/local/lib/python3.7/dist-packages/tensorflow/python/eager/context.py\", line 2113, in execution_mode\n",
            "    yield\n",
            "  File \"/usr/local/lib/python3.7/dist-packages/tensorflow/python/data/ops/iterator_ops.py\", line 733, in _next_internal\n",
            "    output_shapes=self._flat_output_shapes)\n",
            "  File \"/usr/local/lib/python3.7/dist-packages/tensorflow/python/ops/gen_dataset_ops.py\", line 2579, in iterator_get_next\n",
            "    _ops.raise_from_not_ok_status(e, name)\n",
            "  File \"/usr/local/lib/python3.7/dist-packages/tensorflow/python/framework/ops.py\", line 6862, in raise_from_not_ok_status\n",
            "    six.raise_from(core._status_to_exception(e.code, message), None)\n",
            "  File \"<string>\", line 3, in raise_from\n",
            "tensorflow.python.framework.errors_impl.InvalidArgumentError: assertion failed: [[0.677083313]] [[0.497916669]]\n",
            "\t [[{{node Assert/AssertGuard/else/_123/Assert/AssertGuard/Assert}}]]\n",
            "\t [[MultiDeviceIteratorGetNextFromShard]]\n",
            "\t [[RemoteCall]] [Op:IteratorGetNext]\n",
            "\n",
            "During handling of the above exception, another exception occurred:\n",
            "\n",
            "Traceback (most recent call last):\n",
            "  File \"/content/rpi-cv/TensorFlow/models/research/object_detection/model_main_tf2.py\", line 113, in <module>\n",
            "    tf.compat.v1.app.run()\n",
            "  File \"/usr/local/lib/python3.7/dist-packages/tensorflow/python/platform/app.py\", line 40, in run\n",
            "    _run(main=main, argv=argv, flags_parser=_parse_flags_tolerate_undef)\n",
            "  File \"/usr/local/lib/python3.7/dist-packages/absl/app.py\", line 300, in run\n",
            "    _run_main(main, args)\n",
            "  File \"/usr/local/lib/python3.7/dist-packages/absl/app.py\", line 251, in _run_main\n",
            "    sys.exit(main(argv))\n",
            "  File \"/content/rpi-cv/TensorFlow/models/research/object_detection/model_main_tf2.py\", line 110, in main\n",
            "    record_summaries=FLAGS.record_summaries)\n",
            "  File \"/usr/local/lib/python3.7/dist-packages/object_detection/model_lib_v2.py\", line 583, in train_loop\n",
            "    unpad_groundtruth_tensors)\n",
            "  File \"/usr/local/lib/python3.7/dist-packages/object_detection/model_lib_v2.py\", line 352, in load_fine_tune_checkpoint\n",
            "    features, labels = iter(input_dataset).next()\n",
            "  File \"/usr/local/lib/python3.7/dist-packages/tensorflow/python/distribute/input_lib.py\", line 628, in next\n",
            "    return self.__next__()\n",
            "  File \"/usr/local/lib/python3.7/dist-packages/tensorflow/python/distribute/input_lib.py\", line 632, in __next__\n",
            "    return self.get_next()\n",
            "  File \"/usr/local/lib/python3.7/dist-packages/tensorflow/python/distribute/input_lib.py\", line 663, in get_next\n",
            "    self._iterators[i].get_next_as_list_static_shapes(new_name))\n",
            "  File \"/usr/local/lib/python3.7/dist-packages/tensorflow/python/distribute/input_lib.py\", line 1619, in get_next_as_list_static_shapes\n",
            "    return self._format_data_list_with_options(self._iterator.get_next())\n",
            "  File \"/usr/local/lib/python3.7/dist-packages/tensorflow/python/data/ops/multi_device_iterator_ops.py\", line 585, in get_next\n",
            "    result.append(self._device_iterators[i].get_next())\n",
            "  File \"/usr/local/lib/python3.7/dist-packages/tensorflow/python/data/ops/iterator_ops.py\", line 800, in get_next\n",
            "    return self._next_internal()\n",
            "  File \"/usr/local/lib/python3.7/dist-packages/tensorflow/python/data/ops/iterator_ops.py\", line 739, in _next_internal\n",
            "    return structure.from_compatible_tensor_list(self._element_spec, ret)\n",
            "  File \"/usr/lib/python3.7/contextlib.py\", line 130, in __exit__\n",
            "    self.gen.throw(type, value, traceback)\n",
            "  File \"/usr/local/lib/python3.7/dist-packages/tensorflow/python/eager/context.py\", line 2116, in execution_mode\n",
            "    executor_new.wait()\n",
            "  File \"/usr/local/lib/python3.7/dist-packages/tensorflow/python/eager/executor.py\", line 69, in wait\n",
            "    pywrap_tfe.TFE_ExecutorWaitForAllPendingNodes(self._handle)\n",
            "tensorflow.python.framework.errors_impl.InvalidArgumentError: assertion failed: [[0.677083313]] [[0.497916669]]\n",
            "\t [[{{node Assert/AssertGuard/else/_123/Assert/AssertGuard/Assert}}]]\n",
            "\t [[MultiDeviceIteratorGetNextFromShard]]\n",
            "\t [[RemoteCall]]\n"
          ],
          "name": "stdout"
        }
      ]
    },
    {
      "cell_type": "code",
      "metadata": {
        "colab": {
          "base_uri": "https://localhost:8080/"
        },
        "id": "_XmXbrrXjIKu",
        "outputId": "c1f12cfd-b2bd-4023-aad6-661dc881481d"
      },
      "source": [
        "#save checkpoints after each run to drive\n",
        "# !cp -a /content/TensorFlow/workspace/models/ssd_mobilenet_v2_320x320_coco17_tpu-8/ /content/drive/MyDrive/CV/01"
      ],
      "execution_count": null,
      "outputs": [
        {
          "output_type": "stream",
          "text": [
            "cp: cannot create directory '/content/drive/MyDrive/CV/01': No such file or directory\n"
          ],
          "name": "stdout"
        }
      ]
    },
    {
      "cell_type": "code",
      "metadata": {
        "id": "bqH-kAkCQGC5"
      },
      "source": [
        "import os\n",
        "from object_detection.utils import label_map_util\n",
        "from object_detection.utils import visualization_utils as viz_utils\n",
        "from object_detection.builders import model_builder"
      ],
      "execution_count": null,
      "outputs": []
    },
    {
      "cell_type": "code",
      "metadata": {
        "id": "JJxk6GvIQZWN"
      },
      "source": [
        "CHECKPOINT_PATH = MODEL_PATH + '/' + CUSTOM_MODEL_NAME + '/'"
      ],
      "execution_count": null,
      "outputs": []
    },
    {
      "cell_type": "code",
      "metadata": {
        "id": "V4uFD1P2QN3Y",
        "colab": {
          "base_uri": "https://localhost:8080/",
          "height": 533
        },
        "outputId": "d23a8c9c-2a84-457f-af3b-739a6679276c"
      },
      "source": [
        "# Load pipeline config and build a detection model\n",
        "configs = config_util.get_configs_from_pipeline_file(CONFIG_PATH)\n",
        "detection_model = model_builder.build(model_config=configs['model'], is_training=False)\n",
        "\n",
        "# Restore checkpoint\n",
        "ckpt = tf.compat.v2.train.Checkpoint(model=detection_model)\n",
        "ckpt.restore(os.path.join(CHECKPOINT_PATH, 'ckpt-6')).expect_partial()\n",
        "\n",
        "@tf.function\n",
        "def detect_fn(image):\n",
        "    image, shapes = detection_model.preprocess(image)\n",
        "    prediction_dict = detection_model.predict(image, shapes)\n",
        "    detections = detection_model.postprocess(prediction_dict, shapes)\n",
        "    return detections"
      ],
      "execution_count": null,
      "outputs": [
        {
          "output_type": "error",
          "ename": "NotFoundError",
          "evalue": "ignored",
          "traceback": [
            "\u001b[0;31m---------------------------------------------------------------------------\u001b[0m",
            "\u001b[0;31mRuntimeError\u001b[0m                              Traceback (most recent call last)",
            "\u001b[0;32m/usr/local/lib/python3.6/dist-packages/tensorflow/python/training/py_checkpoint_reader.py\u001b[0m in \u001b[0;36mNewCheckpointReader\u001b[0;34m(filepattern)\u001b[0m\n\u001b[1;32m     94\u001b[0m   \u001b[0;32mtry\u001b[0m\u001b[0;34m:\u001b[0m\u001b[0;34m\u001b[0m\u001b[0;34m\u001b[0m\u001b[0m\n\u001b[0;32m---> 95\u001b[0;31m     \u001b[0;32mreturn\u001b[0m \u001b[0mCheckpointReader\u001b[0m\u001b[0;34m(\u001b[0m\u001b[0mcompat\u001b[0m\u001b[0;34m.\u001b[0m\u001b[0mas_bytes\u001b[0m\u001b[0;34m(\u001b[0m\u001b[0mfilepattern\u001b[0m\u001b[0;34m)\u001b[0m\u001b[0;34m)\u001b[0m\u001b[0;34m\u001b[0m\u001b[0;34m\u001b[0m\u001b[0m\n\u001b[0m\u001b[1;32m     96\u001b[0m   \u001b[0;31m# TODO(b/143319754): Remove the RuntimeError casting logic once we resolve the\u001b[0m\u001b[0;34m\u001b[0m\u001b[0;34m\u001b[0m\u001b[0;34m\u001b[0m\u001b[0m\n",
            "\u001b[0;31mRuntimeError\u001b[0m: Unsuccessful TensorSliceReader constructor: Failed to find any matching files for /content/TensorFlow/workspace/models/ssd_mobilenet_v2_320x320_coco17_tpu-8/ckpt-6",
            "\nDuring handling of the above exception, another exception occurred:\n",
            "\u001b[0;31mNotFoundError\u001b[0m                             Traceback (most recent call last)",
            "\u001b[0;32m/usr/local/lib/python3.6/dist-packages/tensorflow/python/training/tracking/util.py\u001b[0m in \u001b[0;36mrestore\u001b[0;34m(self, save_path, options)\u001b[0m\n\u001b[1;32m   2259\u001b[0m     \u001b[0;32mtry\u001b[0m\u001b[0;34m:\u001b[0m\u001b[0;34m\u001b[0m\u001b[0;34m\u001b[0m\u001b[0m\n\u001b[0;32m-> 2260\u001b[0;31m       \u001b[0mstatus\u001b[0m \u001b[0;34m=\u001b[0m \u001b[0mself\u001b[0m\u001b[0;34m.\u001b[0m\u001b[0mread\u001b[0m\u001b[0;34m(\u001b[0m\u001b[0msave_path\u001b[0m\u001b[0;34m,\u001b[0m \u001b[0moptions\u001b[0m\u001b[0;34m=\u001b[0m\u001b[0moptions\u001b[0m\u001b[0;34m)\u001b[0m\u001b[0;34m\u001b[0m\u001b[0;34m\u001b[0m\u001b[0m\n\u001b[0m\u001b[1;32m   2261\u001b[0m     \u001b[0;32mexcept\u001b[0m \u001b[0merrors_impl\u001b[0m\u001b[0;34m.\u001b[0m\u001b[0mNotFoundError\u001b[0m\u001b[0;34m:\u001b[0m\u001b[0;34m\u001b[0m\u001b[0;34m\u001b[0m\u001b[0m\n",
            "\u001b[0;32m/usr/local/lib/python3.6/dist-packages/tensorflow/python/training/tracking/util.py\u001b[0m in \u001b[0;36mread\u001b[0;34m(self, save_path, options)\u001b[0m\n\u001b[1;32m   2147\u001b[0m     \u001b[0moptions\u001b[0m \u001b[0;34m=\u001b[0m \u001b[0moptions\u001b[0m \u001b[0;32mor\u001b[0m \u001b[0mcheckpoint_options\u001b[0m\u001b[0;34m.\u001b[0m\u001b[0mCheckpointOptions\u001b[0m\u001b[0;34m(\u001b[0m\u001b[0;34m)\u001b[0m\u001b[0;34m\u001b[0m\u001b[0;34m\u001b[0m\u001b[0m\n\u001b[0;32m-> 2148\u001b[0;31m     \u001b[0;32mreturn\u001b[0m \u001b[0mself\u001b[0m\u001b[0;34m.\u001b[0m\u001b[0m_saver\u001b[0m\u001b[0;34m.\u001b[0m\u001b[0mrestore\u001b[0m\u001b[0;34m(\u001b[0m\u001b[0msave_path\u001b[0m\u001b[0;34m=\u001b[0m\u001b[0msave_path\u001b[0m\u001b[0;34m,\u001b[0m \u001b[0moptions\u001b[0m\u001b[0;34m=\u001b[0m\u001b[0moptions\u001b[0m\u001b[0;34m)\u001b[0m\u001b[0;34m\u001b[0m\u001b[0;34m\u001b[0m\u001b[0m\n\u001b[0m\u001b[1;32m   2149\u001b[0m \u001b[0;34m\u001b[0m\u001b[0m\n",
            "\u001b[0;32m/usr/local/lib/python3.6/dist-packages/tensorflow/python/training/tracking/util.py\u001b[0m in \u001b[0;36mrestore\u001b[0;34m(self, save_path, options)\u001b[0m\n\u001b[1;32m   1291\u001b[0m       \u001b[0;32mreturn\u001b[0m \u001b[0mInitializationOnlyStatus\u001b[0m\u001b[0;34m(\u001b[0m\u001b[0mself\u001b[0m\u001b[0;34m.\u001b[0m\u001b[0m_graph_view\u001b[0m\u001b[0;34m,\u001b[0m \u001b[0mops\u001b[0m\u001b[0;34m.\u001b[0m\u001b[0muid\u001b[0m\u001b[0;34m(\u001b[0m\u001b[0;34m)\u001b[0m\u001b[0;34m)\u001b[0m\u001b[0;34m\u001b[0m\u001b[0;34m\u001b[0m\u001b[0m\n\u001b[0;32m-> 1292\u001b[0;31m     \u001b[0mreader\u001b[0m \u001b[0;34m=\u001b[0m \u001b[0mpy_checkpoint_reader\u001b[0m\u001b[0;34m.\u001b[0m\u001b[0mNewCheckpointReader\u001b[0m\u001b[0;34m(\u001b[0m\u001b[0msave_path\u001b[0m\u001b[0;34m)\u001b[0m\u001b[0;34m\u001b[0m\u001b[0;34m\u001b[0m\u001b[0m\n\u001b[0m\u001b[1;32m   1293\u001b[0m     \u001b[0mgraph_building\u001b[0m \u001b[0;34m=\u001b[0m \u001b[0;32mnot\u001b[0m \u001b[0mcontext\u001b[0m\u001b[0;34m.\u001b[0m\u001b[0mexecuting_eagerly\u001b[0m\u001b[0;34m(\u001b[0m\u001b[0;34m)\u001b[0m\u001b[0;34m\u001b[0m\u001b[0;34m\u001b[0m\u001b[0m\n",
            "\u001b[0;32m/usr/local/lib/python3.6/dist-packages/tensorflow/python/training/py_checkpoint_reader.py\u001b[0m in \u001b[0;36mNewCheckpointReader\u001b[0;34m(filepattern)\u001b[0m\n\u001b[1;32m     98\u001b[0m   \u001b[0;32mexcept\u001b[0m \u001b[0mRuntimeError\u001b[0m \u001b[0;32mas\u001b[0m \u001b[0me\u001b[0m\u001b[0;34m:\u001b[0m\u001b[0;34m\u001b[0m\u001b[0;34m\u001b[0m\u001b[0m\n\u001b[0;32m---> 99\u001b[0;31m     \u001b[0merror_translator\u001b[0m\u001b[0;34m(\u001b[0m\u001b[0me\u001b[0m\u001b[0;34m)\u001b[0m\u001b[0;34m\u001b[0m\u001b[0;34m\u001b[0m\u001b[0m\n\u001b[0m",
            "\u001b[0;32m/usr/local/lib/python3.6/dist-packages/tensorflow/python/training/py_checkpoint_reader.py\u001b[0m in \u001b[0;36merror_translator\u001b[0;34m(e)\u001b[0m\n\u001b[1;32m     34\u001b[0m       'matching files for') in error_message:\n\u001b[0;32m---> 35\u001b[0;31m     \u001b[0;32mraise\u001b[0m \u001b[0merrors_impl\u001b[0m\u001b[0;34m.\u001b[0m\u001b[0mNotFoundError\u001b[0m\u001b[0;34m(\u001b[0m\u001b[0;32mNone\u001b[0m\u001b[0;34m,\u001b[0m \u001b[0;32mNone\u001b[0m\u001b[0;34m,\u001b[0m \u001b[0merror_message\u001b[0m\u001b[0;34m)\u001b[0m\u001b[0;34m\u001b[0m\u001b[0;34m\u001b[0m\u001b[0m\n\u001b[0m\u001b[1;32m     36\u001b[0m   elif 'Sliced checkpoints are not supported' in error_message or (\n",
            "\u001b[0;31mNotFoundError\u001b[0m: Unsuccessful TensorSliceReader constructor: Failed to find any matching files for /content/TensorFlow/workspace/models/ssd_mobilenet_v2_320x320_coco17_tpu-8/ckpt-6",
            "\nDuring handling of the above exception, another exception occurred:\n",
            "\u001b[0;31mNotFoundError\u001b[0m                             Traceback (most recent call last)",
            "\u001b[0;32m<ipython-input-42-f5bf27ce595e>\u001b[0m in \u001b[0;36m<module>\u001b[0;34m()\u001b[0m\n\u001b[1;32m      5\u001b[0m \u001b[0;31m# Restore checkpoint\u001b[0m\u001b[0;34m\u001b[0m\u001b[0;34m\u001b[0m\u001b[0;34m\u001b[0m\u001b[0m\n\u001b[1;32m      6\u001b[0m \u001b[0mckpt\u001b[0m \u001b[0;34m=\u001b[0m \u001b[0mtf\u001b[0m\u001b[0;34m.\u001b[0m\u001b[0mcompat\u001b[0m\u001b[0;34m.\u001b[0m\u001b[0mv2\u001b[0m\u001b[0;34m.\u001b[0m\u001b[0mtrain\u001b[0m\u001b[0;34m.\u001b[0m\u001b[0mCheckpoint\u001b[0m\u001b[0;34m(\u001b[0m\u001b[0mmodel\u001b[0m\u001b[0;34m=\u001b[0m\u001b[0mdetection_model\u001b[0m\u001b[0;34m)\u001b[0m\u001b[0;34m\u001b[0m\u001b[0;34m\u001b[0m\u001b[0m\n\u001b[0;32m----> 7\u001b[0;31m \u001b[0mckpt\u001b[0m\u001b[0;34m.\u001b[0m\u001b[0mrestore\u001b[0m\u001b[0;34m(\u001b[0m\u001b[0mos\u001b[0m\u001b[0;34m.\u001b[0m\u001b[0mpath\u001b[0m\u001b[0;34m.\u001b[0m\u001b[0mjoin\u001b[0m\u001b[0;34m(\u001b[0m\u001b[0mCHECKPOINT_PATH\u001b[0m\u001b[0;34m,\u001b[0m \u001b[0;34m'ckpt-6'\u001b[0m\u001b[0;34m)\u001b[0m\u001b[0;34m)\u001b[0m\u001b[0;34m.\u001b[0m\u001b[0mexpect_partial\u001b[0m\u001b[0;34m(\u001b[0m\u001b[0;34m)\u001b[0m\u001b[0;34m\u001b[0m\u001b[0;34m\u001b[0m\u001b[0m\n\u001b[0m\u001b[1;32m      8\u001b[0m \u001b[0;34m\u001b[0m\u001b[0m\n\u001b[1;32m      9\u001b[0m \u001b[0;34m@\u001b[0m\u001b[0mtf\u001b[0m\u001b[0;34m.\u001b[0m\u001b[0mfunction\u001b[0m\u001b[0;34m\u001b[0m\u001b[0;34m\u001b[0m\u001b[0m\n",
            "\u001b[0;32m/usr/local/lib/python3.6/dist-packages/tensorflow/python/training/tracking/util.py\u001b[0m in \u001b[0;36mrestore\u001b[0;34m(self, save_path, options)\u001b[0m\n\u001b[1;32m   2263\u001b[0m           \u001b[0;32mNone\u001b[0m\u001b[0;34m,\u001b[0m \u001b[0;32mNone\u001b[0m\u001b[0;34m,\u001b[0m\u001b[0;34m\u001b[0m\u001b[0;34m\u001b[0m\u001b[0m\n\u001b[1;32m   2264\u001b[0m           \u001b[0;34m\"Could not find checkpoint or SavedModel at {}.\"\u001b[0m\u001b[0;34m\u001b[0m\u001b[0;34m\u001b[0m\u001b[0m\n\u001b[0;32m-> 2265\u001b[0;31m           .format(orig_save_path))\n\u001b[0m\u001b[1;32m   2266\u001b[0m     \u001b[0;31m# Create the save counter now so it gets initialized with other variables\u001b[0m\u001b[0;34m\u001b[0m\u001b[0;34m\u001b[0m\u001b[0;34m\u001b[0m\u001b[0m\n\u001b[1;32m   2267\u001b[0m     \u001b[0;31m# when graph building. Creating it earlier would lead to errors when using,\u001b[0m\u001b[0;34m\u001b[0m\u001b[0;34m\u001b[0m\u001b[0;34m\u001b[0m\u001b[0m\n",
            "\u001b[0;31mNotFoundError\u001b[0m: Could not find checkpoint or SavedModel at /content/TensorFlow/workspace/models/ssd_mobilenet_v2_320x320_coco17_tpu-8/ckpt-6."
          ]
        }
      ]
    },
    {
      "cell_type": "markdown",
      "metadata": {
        "id": "GlalWyNbUlhY"
      },
      "source": [
        "# Try Image detection by passing in image\n",
        "\n"
      ]
    },
    {
      "cell_type": "code",
      "metadata": {
        "id": "2YPLMONZWe7p"
      },
      "source": [
        "import cv2 \n",
        "import numpy as np"
      ],
      "execution_count": null,
      "outputs": []
    },
    {
      "cell_type": "code",
      "metadata": {
        "id": "jkckCqRnQw4j"
      },
      "source": [
        "category_index = label_map_util.create_category_index_from_labelmap(ANNOTATIONS_PATH+'/label_map.pbtxt')"
      ],
      "execution_count": null,
      "outputs": []
    },
    {
      "cell_type": "code",
      "metadata": {
        "id": "R7W5plyZ-u9X",
        "colab": {
          "base_uri": "https://localhost:8080/",
          "height": 285
        },
        "outputId": "5ed9a655-f88f-47dd-8f4b-39da45a0a49f"
      },
      "source": [
        "%matplotlib inline\n",
        "from matplotlib import pyplot as plt\n",
        " \n",
        "#frame = cv2.imread(IMAGES_PATH+\"/test/50_set_1_174.jpg\")\n",
        "frame = cv2.imread(IMAGES_PATH+\"/test/test_20.jpg\")\n",
        "print(IMAGES_PATH)\n",
        "image_np = np.array(frame)\n",
        " \n",
        "input_tensor = tf.convert_to_tensor(np.expand_dims(image_np, 0), dtype=tf.float32)\n",
        "detections = detect_fn(input_tensor)\n",
        "\n",
        "num_detections = int(detections.pop('num_detections'))\n",
        "detections = {key: value[0, :num_detections].numpy()\n",
        "              for key, value in detections.items()}\n",
        "\n",
        "detections['num_detections'] = num_detections\n",
        "\n",
        "# detection_classes should be ints.\n",
        "detections['detection_classes'] = detections['detection_classes'].astype(np.int64)\n",
        " \n",
        "label_id_offset = 1\n",
        "image_np_with_detections = image_np.copy()\n",
        " \n",
        "viz_utils.visualize_boxes_and_labels_on_image_array(\n",
        "            image_np_with_detections,\n",
        "            detections['detection_boxes'],\n",
        "            detections['detection_classes']+label_id_offset,\n",
        "            detections['detection_scores'],\n",
        "            category_index,\n",
        "            use_normalized_coordinates=True,\n",
        "            max_boxes_to_draw=5,\n",
        "            min_score_thresh=.1,\n",
        "            agnostic_mode=False)\n",
        "\n",
        "\n",
        "plt.imshow(cv2.cvtColor(cv2.resize(image_np_with_detections, (1024, 800)), cv2.COLOR_BGR2RGB))\n",
        "plt.show()"
      ],
      "execution_count": null,
      "outputs": [
        {
          "output_type": "stream",
          "text": [
            "/content/TensorFlow/workspace/images\n"
          ],
          "name": "stdout"
        },
        {
          "output_type": "display_data",
          "data": {
            "image/png": "[encoded data removed]",
            "text/plain": [
              "<Figure size 432x288 with 1 Axes>"
            ]
          },
          "metadata": {
            "tags": [],
            "needs_background": "light"
          }
        }
      ]
    }
  ]
}